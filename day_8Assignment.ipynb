{
 "cells": [
  {
   "cell_type": "markdown",
   "metadata": {},
   "source": [
    "##GRAPHS IN BOKEH\n"
   ]
  },
  {
   "cell_type": "code",
   "execution_count": 2,
   "metadata": {},
   "outputs": [],
   "source": [
    "import bokeh"
   ]
  },
  {
   "cell_type": "code",
   "execution_count": 5,
   "metadata": {},
   "outputs": [],
   "source": [
    "from bokeh.plotting import figure, show\n",
    "import numpy as np"
   ]
  },
  {
   "cell_type": "code",
   "execution_count": 7,
   "metadata": {},
   "outputs": [
    {
     "name": "stderr",
     "output_type": "stream",
     "text": [
      "WARNING:bokeh.core.validation.check:W-1000 (MISSING_RENDERERS): Plot has no renderers: figure(id='p1030', ...)\n"
     ]
    }
   ],
   "source": [
    "x= [10,15,36,50,90,85]\n",
    "y= [12.18,100,85,77,120,150]\n",
    "np.random.rand(4, 6)\n",
    "\n",
    "p = figure(title=\"Heatmap Example\")\n",
    "show(p)\n",
    "\n"
   ]
  },
  {
   "cell_type": "code",
   "execution_count": 10,
   "metadata": {},
   "outputs": [
    {
     "ename": "ValueError",
     "evalue": "Failed to auto-convert <class 'numpy.ndarray'> to ColumnDataSource.\n Original error: expected a dict or pandas.DataFrame, got [[ 10.    15.    36.    50.    90.    85.  ]\n [ 12.18 100.    85.    77.   120.   150.  ]]",
     "output_type": "error",
     "traceback": [
      "\u001b[1;31m---------------------------------------------------------------------------\u001b[0m",
      "\u001b[1;31mValueError\u001b[0m                                Traceback (most recent call last)",
      "File \u001b[1;32mc:\\Python311\\Lib\\site-packages\\bokeh\\plotting\\_renderer.py:238\u001b[0m, in \u001b[0;36m_convert_data_source\u001b[1;34m(kwargs)\u001b[0m\n\u001b[0;32m    236\u001b[0m \u001b[39mtry\u001b[39;00m:\n\u001b[0;32m    237\u001b[0m     \u001b[39m# try converting the source to ColumnDataSource\u001b[39;00m\n\u001b[1;32m--> 238\u001b[0m     source \u001b[39m=\u001b[39m ColumnDataSource(source)\n\u001b[0;32m    239\u001b[0m \u001b[39mexcept\u001b[39;00m \u001b[39mValueError\u001b[39;00m \u001b[39mas\u001b[39;00m err:\n",
      "File \u001b[1;32mc:\\Python311\\Lib\\site-packages\\bokeh\\models\\sources.py:234\u001b[0m, in \u001b[0;36mColumnDataSource.__init__\u001b[1;34m(self, *args, **kwargs)\u001b[0m\n\u001b[0;32m    233\u001b[0m     \u001b[39melse\u001b[39;00m:\n\u001b[1;32m--> 234\u001b[0m         \u001b[39mraise\u001b[39;00m \u001b[39mValueError\u001b[39;00m(\u001b[39mf\u001b[39m\u001b[39m\"\u001b[39m\u001b[39mexpected a dict or pandas.DataFrame, got \u001b[39m\u001b[39m{\u001b[39;00mraw_data\u001b[39m}\u001b[39;00m\u001b[39m\"\u001b[39m)\n\u001b[0;32m    235\u001b[0m \u001b[39msuper\u001b[39m()\u001b[39m.\u001b[39m\u001b[39m__init__\u001b[39m(\u001b[39m*\u001b[39m\u001b[39m*\u001b[39mkwargs)\n",
      "\u001b[1;31mValueError\u001b[0m: expected a dict or pandas.DataFrame, got [[ 10.    15.    36.    50.    90.    85.  ]\n [ 12.18 100.    85.    77.   120.   150.  ]]",
      "\nDuring handling of the above exception, another exception occurred:\n",
      "\u001b[1;31mValueError\u001b[0m                                Traceback (most recent call last)",
      "\u001b[1;32mc:\\Users\\Zunai\\Downloads\\day_8Assignment.ipynb Cell 5\u001b[0m line \u001b[0;36m1\n\u001b[0;32m     <a href='vscode-notebook-cell:/c%3A/Users/Zunai/Downloads/day_8Assignment.ipynb#W4sZmlsZQ%3D%3D?line=9'>10</a>\u001b[0m x_values \u001b[39m=\u001b[39m [\u001b[39mstr\u001b[39m(x) \u001b[39mfor\u001b[39;00m x \u001b[39min\u001b[39;00m \u001b[39mrange\u001b[39m(num_columns)]\n\u001b[0;32m     <a href='vscode-notebook-cell:/c%3A/Users/Zunai/Downloads/day_8Assignment.ipynb#W4sZmlsZQ%3D%3D?line=10'>11</a>\u001b[0m y_values \u001b[39m=\u001b[39m [\u001b[39mstr\u001b[39m(y) \u001b[39mfor\u001b[39;00m y \u001b[39min\u001b[39;00m \u001b[39mrange\u001b[39m(num_rows)]\n\u001b[1;32m---> <a href='vscode-notebook-cell:/c%3A/Users/Zunai/Downloads/day_8Assignment.ipynb#W4sZmlsZQ%3D%3D?line=11'>12</a>\u001b[0m p\u001b[39m.\u001b[39;49mrect(x\u001b[39m=\u001b[39;49mx_values, y\u001b[39m=\u001b[39;49my_values, width\u001b[39m=\u001b[39;49m\u001b[39m1\u001b[39;49m, height\u001b[39m=\u001b[39;49m\u001b[39m1\u001b[39;49m, source\u001b[39m=\u001b[39;49mdata, line_color\u001b[39m=\u001b[39;49m\u001b[39mNone\u001b[39;49;00m, fill_color\u001b[39m=\u001b[39;49m\u001b[39m'\u001b[39;49m\u001b[39mcolor_palette\u001b[39;49m\u001b[39m'\u001b[39;49m)\n\u001b[0;32m     <a href='vscode-notebook-cell:/c%3A/Users/Zunai/Downloads/day_8Assignment.ipynb#W4sZmlsZQ%3D%3D?line=13'>14</a>\u001b[0m show(p)\n",
      "File \u001b[1;32mc:\\Python311\\Lib\\site-packages\\bokeh\\plotting\\_decorators.py:87\u001b[0m, in \u001b[0;36mglyph_method.<locals>.decorator.<locals>.wrapped\u001b[1;34m(self, *args, **kwargs)\u001b[0m\n\u001b[0;32m     85\u001b[0m \u001b[39mif\u001b[39;00m \u001b[39mself\u001b[39m\u001b[39m.\u001b[39mcoordinates \u001b[39mis\u001b[39;00m \u001b[39mnot\u001b[39;00m \u001b[39mNone\u001b[39;00m:\n\u001b[0;32m     86\u001b[0m     kwargs\u001b[39m.\u001b[39msetdefault(\u001b[39m\"\u001b[39m\u001b[39mcoordinates\u001b[39m\u001b[39m\"\u001b[39m, \u001b[39mself\u001b[39m\u001b[39m.\u001b[39mcoordinates)\n\u001b[1;32m---> 87\u001b[0m \u001b[39mreturn\u001b[39;00m create_renderer(glyphclass, \u001b[39mself\u001b[39;49m\u001b[39m.\u001b[39;49mplot, \u001b[39m*\u001b[39;49m\u001b[39m*\u001b[39;49mkwargs)\n",
      "File \u001b[1;32mc:\\Python311\\Lib\\site-packages\\bokeh\\plotting\\_renderer.py:78\u001b[0m, in \u001b[0;36mcreate_renderer\u001b[1;34m(glyphclass, plot, **kwargs)\u001b[0m\n\u001b[0;32m     76\u001b[0m \u001b[39mdef\u001b[39;00m \u001b[39mcreate_renderer\u001b[39m(glyphclass, plot, \u001b[39m*\u001b[39m\u001b[39m*\u001b[39mkwargs):\n\u001b[0;32m     77\u001b[0m     \u001b[39m# convert data source, if necessary\u001b[39;00m\n\u001b[1;32m---> 78\u001b[0m     is_user_source \u001b[39m=\u001b[39m _convert_data_source(kwargs)\n\u001b[0;32m     80\u001b[0m     \u001b[39m# save off legend kwargs before we get going\u001b[39;00m\n\u001b[0;32m     81\u001b[0m     legend_kwarg \u001b[39m=\u001b[39m pop_legend_kwarg(kwargs)\n",
      "File \u001b[1;32mc:\\Python311\\Lib\\site-packages\\bokeh\\plotting\\_renderer.py:241\u001b[0m, in \u001b[0;36m_convert_data_source\u001b[1;34m(kwargs)\u001b[0m\n\u001b[0;32m    239\u001b[0m \u001b[39mexcept\u001b[39;00m \u001b[39mValueError\u001b[39;00m \u001b[39mas\u001b[39;00m err:\n\u001b[0;32m    240\u001b[0m     msg \u001b[39m=\u001b[39m \u001b[39mf\u001b[39m\u001b[39m\"\u001b[39m\u001b[39mFailed to auto-convert \u001b[39m\u001b[39m{\u001b[39;00m\u001b[39mtype\u001b[39m(source)\u001b[39m}\u001b[39;00m\u001b[39m to ColumnDataSource.\u001b[39m\u001b[39m\\n\u001b[39;00m\u001b[39m Original error: \u001b[39m\u001b[39m{\u001b[39;00merr\u001b[39m}\u001b[39;00m\u001b[39m\"\u001b[39m\n\u001b[1;32m--> 241\u001b[0m     \u001b[39mraise\u001b[39;00m \u001b[39mValueError\u001b[39;00m(msg)\u001b[39m.\u001b[39mwith_traceback(sys\u001b[39m.\u001b[39mexc_info()[\u001b[39m2\u001b[39m])\n\u001b[0;32m    243\u001b[0m \u001b[39m# update kwargs so that others can use the new source\u001b[39;00m\n\u001b[0;32m    244\u001b[0m kwargs[\u001b[39m'\u001b[39m\u001b[39msource\u001b[39m\u001b[39m'\u001b[39m] \u001b[39m=\u001b[39m source\n",
      "File \u001b[1;32mc:\\Python311\\Lib\\site-packages\\bokeh\\plotting\\_renderer.py:238\u001b[0m, in \u001b[0;36m_convert_data_source\u001b[1;34m(kwargs)\u001b[0m\n\u001b[0;32m    235\u001b[0m \u001b[39mif\u001b[39;00m \u001b[39mnot\u001b[39;00m \u001b[39misinstance\u001b[39m(source, ColumnarDataSource):\n\u001b[0;32m    236\u001b[0m     \u001b[39mtry\u001b[39;00m:\n\u001b[0;32m    237\u001b[0m         \u001b[39m# try converting the source to ColumnDataSource\u001b[39;00m\n\u001b[1;32m--> 238\u001b[0m         source \u001b[39m=\u001b[39m ColumnDataSource(source)\n\u001b[0;32m    239\u001b[0m     \u001b[39mexcept\u001b[39;00m \u001b[39mValueError\u001b[39;00m \u001b[39mas\u001b[39;00m err:\n\u001b[0;32m    240\u001b[0m         msg \u001b[39m=\u001b[39m \u001b[39mf\u001b[39m\u001b[39m\"\u001b[39m\u001b[39mFailed to auto-convert \u001b[39m\u001b[39m{\u001b[39;00m\u001b[39mtype\u001b[39m(source)\u001b[39m}\u001b[39;00m\u001b[39m to ColumnDataSource.\u001b[39m\u001b[39m\\n\u001b[39;00m\u001b[39m Original error: \u001b[39m\u001b[39m{\u001b[39;00merr\u001b[39m}\u001b[39;00m\u001b[39m\"\u001b[39m\n",
      "File \u001b[1;32mc:\\Python311\\Lib\\site-packages\\bokeh\\models\\sources.py:234\u001b[0m, in \u001b[0;36mColumnDataSource.__init__\u001b[1;34m(self, *args, **kwargs)\u001b[0m\n\u001b[0;32m    232\u001b[0m         raw_data \u001b[39m=\u001b[39m \u001b[39mself\u001b[39m\u001b[39m.\u001b[39m_data_from_groupby(raw_data)\n\u001b[0;32m    233\u001b[0m     \u001b[39melse\u001b[39;00m:\n\u001b[1;32m--> 234\u001b[0m         \u001b[39mraise\u001b[39;00m \u001b[39mValueError\u001b[39;00m(\u001b[39mf\u001b[39m\u001b[39m\"\u001b[39m\u001b[39mexpected a dict or pandas.DataFrame, got \u001b[39m\u001b[39m{\u001b[39;00mraw_data\u001b[39m}\u001b[39;00m\u001b[39m\"\u001b[39m)\n\u001b[0;32m    235\u001b[0m \u001b[39msuper\u001b[39m()\u001b[39m.\u001b[39m\u001b[39m__init__\u001b[39m(\u001b[39m*\u001b[39m\u001b[39m*\u001b[39mkwargs)\n\u001b[0;32m    236\u001b[0m \u001b[39mself\u001b[39m\u001b[39m.\u001b[39mdata\u001b[39m.\u001b[39mupdate(raw_data)\n",
      "\u001b[1;31mValueError\u001b[0m: Failed to auto-convert <class 'numpy.ndarray'> to ColumnDataSource.\n Original error: expected a dict or pandas.DataFrame, got [[ 10.    15.    36.    50.    90.    85.  ]\n [ 12.18 100.    85.    77.   120.   150.  ]]"
     ]
    }
   ],
   "source": [
    "\n",
    "from bokeh.plotting import figure, show\n",
    "import numpy as np\n",
    "\n",
    "\n",
    "data = np.array([[10, 15, 36, 50, 90, 85], [12.18, 100, 85, 77, 120, 150]])\n",
    "p = figure(width=400, height=400, title=\"Heatmap Example\")\n",
    "p.xaxis.axis_label = \"X-axis\"\n",
    "p.yaxis.axis_label = \"Y-axis\"\n",
    "num_rows, num_columns = data.shape\n",
    "x_values = [str(x) for x in range(num_columns)]\n",
    "y_values = [str(y) for y in range(num_rows)]\n",
    "p.rect(x=x_values, y=y_values, width=1, height=1, source=data, line_color=None, fill_color='color_palette')\n",
    "\n",
    "show(p)\n"
   ]
  },
  {
   "cell_type": "code",
   "execution_count": 12,
   "metadata": {},
   "outputs": [],
   "source": []
  },
  {
   "cell_type": "code",
   "execution_count": 14,
   "metadata": {},
   "outputs": [],
   "source": [
    "# Import libraries\n",
    "from bokeh.plotting import figure, show\n",
    "import numpy as np\n",
    "\n",
    "# Sample data\n",
    "set1 = ['College', 'school', 'university', 'home']\n",
    "values = [10, 15, 36, 50]\n",
    "\n",
    "# Create a Bokeh figure\n",
    "p = figure(x_range=set1, height=400, title=\"Vertical Bar Chart Example\")\n",
    "\n",
    "# Set the axis labels \n",
    "p.xaxis.axis_label = \"set1\"\n",
    "p.yaxis.axis_label = \"Values\"\n",
    "\n",
    "# Create the vertical bar chart using vbar\n",
    "p.vbar(x=set1, top=values, width=0.5, color=\"blue\")\n",
    "\n",
    "# Show the plot\n",
    "show(p)\n"
   ]
  },
  {
   "cell_type": "markdown",
   "metadata": {},
   "source": [
    "##LINE GRAPH:"
   ]
  },
  {
   "cell_type": "code",
   "execution_count": 15,
   "metadata": {},
   "outputs": [
    {
     "data": {
      "image/png": "[encoded data removed]",
      "text/plain": [
       "<Figure size 800x600 with 1 Axes>"
      ]
     },
     "metadata": {},
     "output_type": "display_data"
    }
   ],
   "source": [
    "import matplotlib.pyplot as plt\n",
    "\n",
    "# Sample data\n",
    "set1 = ['College', 'school', 'university', 'home']\n",
    "values = [10, 15, 36, 50]\n",
    "\n",
    "# Create a line graph\n",
    "plt.figure(figsize=(8, 6))  # Adjust the figure size if needed\n",
    "\n",
    "# Plot the data as a line graph\n",
    "plt.plot(set1, values)\n",
    "\n",
    "# Add labels and a title\n",
    "plt.xlabel('Locations')\n",
    "plt.ylabel('Values')\n",
    "plt.title('Sample Line Graph')\n",
    "\n",
    "\n",
    "\n",
    "plt.show()\n"
   ]
  },
  {
   "cell_type": "markdown",
   "metadata": {},
   "source": [
    "GRAPHS IN PLOTLY\n"
   ]
  },
  {
   "cell_type": "code",
   "execution_count": 18,
   "metadata": {},
   "outputs": [
    {
     "name": "stdout",
     "output_type": "stream",
     "text": [
      "^C\n",
      "Note: you may need to restart the kernel to use updated packages.\n"
     ]
    },
    {
     "name": "stdout",
     "output_type": "stream",
     "text": [
      "Collecting plotly\n",
      "  Downloading plotly-5.17.0-py2.py3-none-any.whl (15.6 MB)\n",
      "     -------------------------------------- 15.6/15.6 MB 709.0 kB/s eta 0:00:00\n",
      "Collecting tenacity>=6.2.0\n",
      "  Downloading tenacity-8.2.3-py3-none-any.whl (24 kB)\n",
      "Requirement already satisfied: packaging in c:\\users\\zunai\\appdata\\roaming\\python\\python311\\site-packages (from plotly) (23.0)\n",
      "Installing collected packages: tenacity, plotly\n",
      "Successfully installed plotly-5.17.0 tenacity-8.2.3\n"
     ]
    },
    {
     "name": "stderr",
     "output_type": "stream",
     "text": [
      "\n",
      "[notice] A new release of pip available: 22.3.1 -> 23.2.1\n",
      "[notice] To update, run: python.exe -m pip install --upgrade pip\n"
     ]
    }
   ],
   "source": [
    "pip install plotly\n"
   ]
  },
  {
   "cell_type": "code",
   "execution_count": 19,
   "metadata": {},
   "outputs": [],
   "source": [
    "#import\n",
    "import plotly.express as px\n"
   ]
  },
  {
   "cell_type": "code",
   "execution_count": 25,
   "metadata": {},
   "outputs": [
    {
     "name": "stdout",
     "output_type": "stream",
     "text": [
      "Collecting nbformatNote: you may need to restart the kernel to use updated packages.\n",
      "\n",
      "  Downloading nbformat-5.9.2-py3-none-any.whl (77 kB)\n",
      "     -------------------------------------- 77.6/77.6 kB 617.9 kB/s eta 0:00:00\n",
      "Collecting fastjsonschema\n",
      "  Downloading fastjsonschema-2.18.0-py3-none-any.whl (23 kB)\n",
      "Collecting jsonschema>=2.6\n",
      "  Downloading jsonschema-4.19.1-py3-none-any.whl (83 kB)\n",
      "     --------------------------------------- 83.3/83.3 kB 59.9 kB/s eta 0:00:00\n",
      "Requirement already satisfied: jupyter-core in c:\\users\\zunai\\appdata\\roaming\\python\\python311\\site-packages (from nbformat) (5.2.0)\n",
      "Requirement already satisfied: traitlets>=5.1 in c:\\users\\zunai\\appdata\\roaming\\python\\python311\\site-packages (from nbformat) (5.9.0)\n",
      "Collecting attrs>=22.2.0\n",
      "  Downloading attrs-23.1.0-py3-none-any.whl (61 kB)\n",
      "     -------------------------------------- 61.2/61.2 kB 361.1 kB/s eta 0:00:00\n",
      "Collecting jsonschema-specifications>=2023.03.6\n",
      "  Downloading jsonschema_specifications-2023.7.1-py3-none-any.whl (17 kB)\n",
      "Collecting referencing>=0.28.4\n",
      "  Downloading referencing-0.30.2-py3-none-any.whl (25 kB)\n",
      "Collecting rpds-py>=0.7.1\n",
      "  Downloading rpds_py-0.10.3-cp311-none-win_amd64.whl (186 kB)\n",
      "     ------------------------------------ 186.4/186.4 kB 804.2 kB/s eta 0:00:00\n",
      "Requirement already satisfied: platformdirs>=2.5 in c:\\users\\zunai\\appdata\\roaming\\python\\python311\\site-packages (from jupyter-core->nbformat) (3.0.0)\n",
      "Requirement already satisfied: pywin32>=1.0 in c:\\users\\zunai\\appdata\\roaming\\python\\python311\\site-packages (from jupyter-core->nbformat) (305)\n",
      "Installing collected packages: fastjsonschema, rpds-py, attrs, referencing, jsonschema-specifications, jsonschema, nbformat\n",
      "Successfully installed attrs-23.1.0 fastjsonschema-2.18.0 jsonschema-4.19.1 jsonschema-specifications-2023.7.1 nbformat-5.9.2 referencing-0.30.2 rpds-py-0.10.3\n"
     ]
    },
    {
     "name": "stderr",
     "output_type": "stream",
     "text": [
      "\n",
      "[notice] A new release of pip available: 22.3.1 -> 23.2.1\n",
      "[notice] To update, run: python.exe -m pip install --upgrade pip\n"
     ]
    }
   ],
   "source": [
    "pip install nbformat"
   ]
  },
  {
   "cell_type": "code",
   "execution_count": 30,
   "metadata": {},
   "outputs": [
    {
     "ename": "ValueError",
     "evalue": "Mime type rendering requires nbformat>=4.2.0 but it is not installed",
     "output_type": "error",
     "traceback": [
      "\u001b[1;31m---------------------------------------------------------------------------\u001b[0m",
      "\u001b[1;31mValueError\u001b[0m                                Traceback (most recent call last)",
      "\u001b[1;32mc:\\Users\\Zunai\\Downloads\\day_8Assignment.ipynb Cell 14\u001b[0m line \u001b[0;36m3\n\u001b[0;32m      <a href='vscode-notebook-cell:/c%3A/Users/Zunai/Downloads/day_8Assignment.ipynb#X20sZmlsZQ%3D%3D?line=0'>1</a>\u001b[0m df \u001b[39m=\u001b[39m px\u001b[39m.\u001b[39mdata\u001b[39m.\u001b[39mgapminder()\u001b[39m.\u001b[39mquery(\u001b[39m\"\u001b[39m\u001b[39mcountry== \u001b[39m\u001b[39m'\u001b[39m\u001b[39mCanada\u001b[39m\u001b[39m'\u001b[39m\u001b[39m\"\u001b[39m)\n\u001b[0;32m      <a href='vscode-notebook-cell:/c%3A/Users/Zunai/Downloads/day_8Assignment.ipynb#X20sZmlsZQ%3D%3D?line=1'>2</a>\u001b[0m fig \u001b[39m=\u001b[39mpx\u001b[39m.\u001b[39mline(df, x\u001b[39m=\u001b[39m \u001b[39m\"\u001b[39m\u001b[39myear\u001b[39m\u001b[39m\"\u001b[39m, y\u001b[39m=\u001b[39m \u001b[39m\"\u001b[39m\u001b[39mlifeExp\u001b[39m\u001b[39m\"\u001b[39m, title\u001b[39m=\u001b[39m\u001b[39m'\u001b[39m\u001b[39mlife in canada\u001b[39m\u001b[39m'\u001b[39m)\n\u001b[1;32m----> <a href='vscode-notebook-cell:/c%3A/Users/Zunai/Downloads/day_8Assignment.ipynb#X20sZmlsZQ%3D%3D?line=2'>3</a>\u001b[0m fig\u001b[39m.\u001b[39;49mshow()\n",
      "File \u001b[1;32mc:\\Python311\\Lib\\site-packages\\plotly\\basedatatypes.py:3412\u001b[0m, in \u001b[0;36mBaseFigure.show\u001b[1;34m(self, *args, **kwargs)\u001b[0m\n\u001b[0;32m   3379\u001b[0m \u001b[39m\u001b[39m\u001b[39m\"\"\"\u001b[39;00m\n\u001b[0;32m   3380\u001b[0m \u001b[39mShow a figure using either the default renderer(s) or the renderer(s)\u001b[39;00m\n\u001b[0;32m   3381\u001b[0m \u001b[39mspecified by the renderer argument\u001b[39;00m\n\u001b[1;32m   (...)\u001b[0m\n\u001b[0;32m   3408\u001b[0m \u001b[39mNone\u001b[39;00m\n\u001b[0;32m   3409\u001b[0m \u001b[39m\"\"\"\u001b[39;00m\n\u001b[0;32m   3410\u001b[0m \u001b[39mimport\u001b[39;00m \u001b[39mplotly\u001b[39;00m\u001b[39m.\u001b[39;00m\u001b[39mio\u001b[39;00m \u001b[39mas\u001b[39;00m \u001b[39mpio\u001b[39;00m\n\u001b[1;32m-> 3412\u001b[0m \u001b[39mreturn\u001b[39;00m pio\u001b[39m.\u001b[39;49mshow(\u001b[39mself\u001b[39;49m, \u001b[39m*\u001b[39;49margs, \u001b[39m*\u001b[39;49m\u001b[39m*\u001b[39;49mkwargs)\n",
      "File \u001b[1;32mc:\\Python311\\Lib\\site-packages\\plotly\\io\\_renderers.py:396\u001b[0m, in \u001b[0;36mshow\u001b[1;34m(fig, renderer, validate, **kwargs)\u001b[0m\n\u001b[0;32m    391\u001b[0m         \u001b[39mraise\u001b[39;00m \u001b[39mValueError\u001b[39;00m(\n\u001b[0;32m    392\u001b[0m             \u001b[39m\"\u001b[39m\u001b[39mMime type rendering requires ipython but it is not installed\u001b[39m\u001b[39m\"\u001b[39m\n\u001b[0;32m    393\u001b[0m         )\n\u001b[0;32m    395\u001b[0m     \u001b[39mif\u001b[39;00m \u001b[39mnot\u001b[39;00m nbformat \u001b[39mor\u001b[39;00m Version(nbformat\u001b[39m.\u001b[39m__version__) \u001b[39m<\u001b[39m Version(\u001b[39m\"\u001b[39m\u001b[39m4.2.0\u001b[39m\u001b[39m\"\u001b[39m):\n\u001b[1;32m--> 396\u001b[0m         \u001b[39mraise\u001b[39;00m \u001b[39mValueError\u001b[39;00m(\n\u001b[0;32m    397\u001b[0m             \u001b[39m\"\u001b[39m\u001b[39mMime type rendering requires nbformat>=4.2.0 but it is not installed\u001b[39m\u001b[39m\"\u001b[39m\n\u001b[0;32m    398\u001b[0m         )\n\u001b[0;32m    400\u001b[0m     ipython_display\u001b[39m.\u001b[39mdisplay(bundle, raw\u001b[39m=\u001b[39m\u001b[39mTrue\u001b[39;00m)\n\u001b[0;32m    402\u001b[0m \u001b[39m# external renderers\u001b[39;00m\n",
      "\u001b[1;31mValueError\u001b[0m: Mime type rendering requires nbformat>=4.2.0 but it is not installed"
     ]
    }
   ],
   "source": [
    "\n",
    "\n",
    "df = px.data.gapminder().query(\"country== 'Canada'\")\n",
    "fig =px.line(df, x= \"year\", y= \"lifeExp\", title='life in canada')\n",
    "fig.show()\n"
   ]
  }
 ],
 "metadata": {
  "kernelspec": {
   "display_name": "Python 3",
   "language": "python",
   "name": "python3"
  },
  "language_info": {
   "codemirror_mode": {
    "name": "ipython",
    "version": 3
   },
   "file_extension": ".py",
   "mimetype": "text/x-python",
   "name": "python",
   "nbconvert_exporter": "python",
   "pygments_lexer": "ipython3",
   "version": "3.11.3"
  },
  "orig_nbformat": 4
 },
 "nbformat": 4,
 "nbformat_minor": 2
}
